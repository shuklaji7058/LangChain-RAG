{
 "cells": [
  {
   "cell_type": "markdown",
   "id": "d2b9073a-b7d2-422d-b363-c50b51ca32ac",
   "metadata": {},
   "source": [
    "# Indexing: Document Splitting with Character Text Splitter (Code Along)"
   ]
  },
  {
   "cell_type": "code",
   "execution_count": 1,
   "id": "76dd55f8-1a77-4c4c-bd0d-51cbbcef5371",
   "metadata": {},
   "outputs": [],
   "source": [
    "from langchain_community.document_loaders import Docx2txtLoader\n",
    "from langchain_text_splitters.character import CharacterTextSplitter\n"
   ]
  },
  {
   "cell_type": "code",
   "execution_count": 5,
   "id": "c1a086ff-dd7b-4327-b7e6-f4cc1f7d626e",
   "metadata": {},
   "outputs": [],
   "source": [
    "loader = Docx2txtLoader(\"Introduction_to_Data_and_Data_Science.docx\")\n",
    "pages = loader.load()\n",
    "for i in range(len(pages)):\n",
    "    pages[i].page_content = ' '.join(pages[i].page_content.split())"
   ]
  },
  {
   "cell_type": "code",
   "execution_count": 6,
   "id": "db9c74e5-529b-47d1-9a19-9769e15600f5",
   "metadata": {},
   "outputs": [
    {
     "data": {
      "text/plain": [
       "8259"
      ]
     },
     "execution_count": 6,
     "metadata": {},
     "output_type": "execute_result"
    }
   ],
   "source": [
    "len(pages[0].page_content)"
   ]
  },
  {
   "cell_type": "code",
   "execution_count": 7,
   "id": "b9779574-83b1-431c-af0d-e1f229a417f3",
   "metadata": {},
   "outputs": [],
   "source": [
    "char_splitter = CharacterTextSplitter(separator = \".\",\n",
    "                                     chunk_size = 500,\n",
    "                                     chunk_overlap = 50)"
   ]
  },
  {
   "cell_type": "code",
   "execution_count": 8,
   "id": "a933897d-c120-4a82-a1c1-d9703cf556bc",
   "metadata": {},
   "outputs": [],
   "source": [
    "pages_char_split = char_splitter.split_documents(pages)"
   ]
  },
  {
   "cell_type": "code",
   "execution_count": 10,
   "id": "0a7af53f-5ba0-4cd5-9372-3f93f776ac50",
   "metadata": {},
   "outputs": [
    {
     "data": {
      "text/plain": [
       "21"
      ]
     },
     "execution_count": 10,
     "metadata": {},
     "output_type": "execute_result"
    }
   ],
   "source": [
    "len(pages_char_split)"
   ]
  },
  {
   "cell_type": "code",
   "execution_count": 11,
   "id": "cf3e3552-7315-45e9-b3c7-46a30d178a03",
   "metadata": {},
   "outputs": [
    {
     "data": {
      "text/plain": [
       "'Analysis vs Analytics Alright! So… Let’s discuss the not-so-obvious differences between the terms analysis and analytics. Due to the similarity of the words, some people believe they share the same meaning, and thus use them interchangeably. Technically, this isn’t correct. There is, in fact, a distinct difference between the two. And the reason for one often being used instead of the other is the lack of a transparent understanding of both'"
      ]
     },
     "execution_count": 11,
     "metadata": {},
     "output_type": "execute_result"
    }
   ],
   "source": [
    "pages_char_split[0].page_content"
   ]
  },
  {
   "cell_type": "code",
   "execution_count": 12,
   "id": "837d8312-dbba-418a-bed8-f8675f9facdd",
   "metadata": {},
   "outputs": [
    {
     "data": {
      "text/plain": [
       "16.518"
      ]
     },
     "execution_count": 12,
     "metadata": {},
     "output_type": "execute_result"
    }
   ],
   "source": [
    "8259/500"
   ]
  },
  {
   "cell_type": "code",
   "execution_count": 13,
   "id": "67d9592f-206b-46f3-b636-6318283138ba",
   "metadata": {},
   "outputs": [
    {
     "data": {
      "text/plain": [
       "259.0"
      ]
     },
     "execution_count": 13,
     "metadata": {},
     "output_type": "execute_result"
    }
   ],
   "source": [
    "0.518*500"
   ]
  },
  {
   "cell_type": "code",
   "execution_count": 15,
   "id": "7a2ec2d9-75ac-4b92-aa8b-436644b63259",
   "metadata": {},
   "outputs": [
    {
     "data": {
      "text/plain": [
       "382"
      ]
     },
     "execution_count": 15,
     "metadata": {},
     "output_type": "execute_result"
    }
   ],
   "source": [
    "len(pages_char_split[16].page_content)"
   ]
  },
  {
   "cell_type": "code",
   "execution_count": null,
   "id": "a22c1189-af2b-4819-af24-8a0af752b44b",
   "metadata": {},
   "outputs": [],
   "source": []
  }
 ],
 "metadata": {
  "kernelspec": {
   "display_name": "Python 3.13.5",
   "language": "python",
   "name": "python-latest"
  },
  "language_info": {
   "codemirror_mode": {
    "name": "ipython",
    "version": 3
   },
   "file_extension": ".py",
   "mimetype": "text/x-python",
   "name": "python",
   "nbconvert_exporter": "python",
   "pygments_lexer": "ipython3",
   "version": "3.13.5"
  }
 },
 "nbformat": 4,
 "nbformat_minor": 5
}
