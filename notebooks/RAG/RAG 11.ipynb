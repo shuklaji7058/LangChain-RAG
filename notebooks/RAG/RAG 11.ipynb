{
 "cells": [
  {
   "cell_type": "markdown",
   "id": "7b5d8e40-bab9-4a3d-9b19-1d862c18b0ee",
   "metadata": {},
   "source": [
    "# Generation: Stuffing Documents"
   ]
  },
  {
   "cell_type": "code",
   "execution_count": 1,
   "id": "5ea66652-fdc1-4684-aff3-196f8703b610",
   "metadata": {},
   "outputs": [],
   "source": [
    "%load_ext dotenv\n",
    "%dotenv"
   ]
  },
  {
   "cell_type": "code",
   "execution_count": 2,
   "id": "082ae11b-b5ee-421e-8101-04a8759cf552",
   "metadata": {},
   "outputs": [],
   "source": [
    "from langchain_google_genai import GoogleGenerativeAIEmbeddings \n",
    "from langchain_chroma import Chroma\n",
    "from langchain_google_genai import GoogleGenerativeAIEmbeddings \n",
    "from langchain_core.prompts import PromptTemplate\n",
    "from langchain_core.runnables import RunnablePassthrough\n",
    "from langchain_core.runnables import RunnableParallel\n",
    "from langchain_core.output_parsers import StrOutputParser"
   ]
  },
  {
   "cell_type": "code",
   "execution_count": 6,
   "id": "2b0769f7-e128-43bd-953a-7c874027be61",
   "metadata": {},
   "outputs": [],
   "source": [
    "import os\n",
    "api_key = os.getenv(\"GEMINI_API_KEY\")\n",
    "\n",
    "embedding = GoogleGenerativeAIEmbeddings(\n",
    "    model=\"models/embedding-001\",\n",
    "    google_api_key=api_key\n",
    ")\n",
    "\n",
    "\n",
    "vectorstore = Chroma(persist_directory = \"./intro-to-ds-lectures\", \n",
    "                     embedding_function = embedding\n",
    "                  )"
   ]
  },
  {
   "cell_type": "code",
   "execution_count": 7,
   "id": "b99bb171-b927-4056-8529-f786d36724be",
   "metadata": {},
   "outputs": [
    {
     "data": {
      "text/plain": [
       "41"
      ]
     },
     "execution_count": 7,
     "metadata": {},
     "output_type": "execute_result"
    }
   ],
   "source": [
    "len(vectorstore.get()['documents'])"
   ]
  },
  {
   "cell_type": "code",
   "execution_count": 8,
   "id": "82e34dc0-8896-49b1-867c-93383313ac88",
   "metadata": {},
   "outputs": [],
   "source": [
    "retriever = vectorstore.as_retriever(search_type = 'mmr', \n",
    "                                     search_kwargs = {'k':3, \n",
    "                                                      'lambda_mult':0.7})"
   ]
  },
  {
   "cell_type": "code",
   "execution_count": 9,
   "id": "2c5b6257-c907-482e-b5a6-472ac91c1ff2",
   "metadata": {},
   "outputs": [],
   "source": [
    "TEMPLATE = '''\n",
    "Answer the following question:\n",
    "{question}\n",
    "\n",
    "To answer the question, use only the following context:\n",
    "{context}\n",
    "\n",
    "At the end of the response, specify the name of the lecture this context is taken from in the format:\n",
    "Resources: *Lecture Title*\n",
    "where *Lecture Title* should be substituted with the title of all resource lectures.\n",
    "'''\n",
    "\n",
    "prompt_template = PromptTemplate.from_template(TEMPLATE)"
   ]
  },
  {
   "cell_type": "code",
   "execution_count": 11,
   "id": "7b70acff-4ea0-40a7-9ce8-213eef272128",
   "metadata": {},
   "outputs": [],
   "source": [
    "from langchain_google_genai import ChatGoogleGenerativeAI"
   ]
  },
  {
   "cell_type": "code",
   "execution_count": 12,
   "id": "397ac4fa-c020-4bf0-b02b-bed5ca181132",
   "metadata": {},
   "outputs": [],
   "source": [
    "chat = ChatGoogleGenerativeAI(\n",
    "    google_api_key = os.getenv(\"GEMINI_API_KEY\"),  \n",
    "    model = \"gemini-2.0-flash\",\n",
    "    temperature = 0,\n",
    "    max_output_tokens = 100,\n",
    "    model_kwargs = {\"seed\": 365}\n",
    ")"
   ]
  },
  {
   "cell_type": "code",
   "execution_count": 13,
   "id": "0c2e540d-bdf8-4813-b5c0-41fb61fb3013",
   "metadata": {},
   "outputs": [],
   "source": [
    "question = \"What software do data scientists use?\""
   ]
  },
  {
   "cell_type": "code",
   "execution_count": 14,
   "id": "c142e8df-b0e9-4f46-bc6a-9c2d7267cdc6",
   "metadata": {},
   "outputs": [],
   "source": [
    "chain = {'context': retriever, \n",
    "         'question': RunnablePassthrough()} | prompt_template"
   ]
  },
  {
   "cell_type": "code",
   "execution_count": 15,
   "id": "4484ea89-0510-455e-ba1a-1cde303df333",
   "metadata": {},
   "outputs": [
    {
     "data": {
      "text/plain": [
       "StringPromptValue(text=\"\\nAnswer the following question:\\nWhat software do data scientists use?\\n\\nTo answer the question, use only the following context:\\n[Document(id='926358a8-24e0-4b18-85c0-9a074afe8603', metadata={'Course Title': 'Introduction to Data and Data Science', 'Lecture Title': 'Programming Languages & Software Employed in Data Science - All the Tools You Need'}, page_content='Great! We hope we gave you a good idea about the level of applicability of the most frequently used programming and software tools in the field of data science. Thank you for watching!'), Document(id='aed9fd41-2ba1-4216-b95b-007a2eba891f', metadata={'Lecture Title': 'Programming Languages & Software Employed in Data Science - All the Tools You Need', 'Course Title': 'Introduction to Data and Data Science'}, page_content='It’s actually a software framework which was designed to address the complexity of big data and its computational intensity. Most notably, Hadoop distributes the computational tasks on multiple computers which is basically the way to handle big data nowadays. Power BI, SaS, Qlik, and especially Tableau are top-notch examples of software designed for business intelligence visualizations'), Document(id='54bca6b9-0cfc-481a-a145-4d44446ce948', metadata={'Lecture Title': 'Analysis vs Analytics', 'Course Title': 'Introduction to Data and Data Science'}, page_content='Analytics is essentially the application of logical and computational reasoning to the component parts obtained in an analysis. And in doing this you are looking for patterns and exploring what you could do with them in the future. Here, analytics branches off into two areas: qualitative analytics – this is using your intuition and experience in conjunction with the analysis to plan your next business move')]\\n\\nAt the end of the response, specify the name of the lecture this context is taken from in the format:\\nResources: *Lecture Title*\\nwhere *Lecture Title* should be substituted with the title of all resource lectures.\\n\")"
      ]
     },
     "execution_count": 15,
     "metadata": {},
     "output_type": "execute_result"
    }
   ],
   "source": [
    "chain.invoke(question)"
   ]
  },
  {
   "cell_type": "code",
   "execution_count": 16,
   "id": "0cc694e4-0447-401f-a890-effe28898822",
   "metadata": {},
   "outputs": [
    {
     "name": "stdout",
     "output_type": "stream",
     "text": [
      "\n",
      "Answer the following question:\n",
      "What software do data scientists use?\n",
      "\n",
      "To answer the question, use only the following context:\n",
      "[Document(id='926358a8-24e0-4b18-85c0-9a074afe8603', metadata={'Course Title': 'Introduction to Data and Data Science', 'Lecture Title': 'Programming Languages & Software Employed in Data Science - All the Tools You Need'}, page_content='Great! We hope we gave you a good idea about the level of applicability of the most frequently used programming and software tools in the field of data science. Thank you for watching!'), Document(id='aed9fd41-2ba1-4216-b95b-007a2eba891f', metadata={'Lecture Title': 'Programming Languages & Software Employed in Data Science - All the Tools You Need', 'Course Title': 'Introduction to Data and Data Science'}, page_content='It’s actually a software framework which was designed to address the complexity of big data and its computational intensity. Most notably, Hadoop distributes the computational tasks on multiple computers which is basically the way to handle big data nowadays. Power BI, SaS, Qlik, and especially Tableau are top-notch examples of software designed for business intelligence visualizations'), Document(id='54bca6b9-0cfc-481a-a145-4d44446ce948', metadata={'Lecture Title': 'Analysis vs Analytics', 'Course Title': 'Introduction to Data and Data Science'}, page_content='Analytics is essentially the application of logical and computational reasoning to the component parts obtained in an analysis. And in doing this you are looking for patterns and exploring what you could do with them in the future. Here, analytics branches off into two areas: qualitative analytics – this is using your intuition and experience in conjunction with the analysis to plan your next business move')]\n",
      "\n",
      "At the end of the response, specify the name of the lecture this context is taken from in the format:\n",
      "Resources: *Lecture Title*\n",
      "where *Lecture Title* should be substituted with the title of all resource lectures.\n",
      "\n"
     ]
    }
   ],
   "source": [
    "print(\"\\nAnswer the following question:\\nWhat software do data scientists use?\\n\\nTo answer the question, use only the following context:\\n[Document(id='926358a8-24e0-4b18-85c0-9a074afe8603', metadata={'Course Title': 'Introduction to Data and Data Science', 'Lecture Title': 'Programming Languages & Software Employed in Data Science - All the Tools You Need'}, page_content='Great! We hope we gave you a good idea about the level of applicability of the most frequently used programming and software tools in the field of data science. Thank you for watching!'), Document(id='aed9fd41-2ba1-4216-b95b-007a2eba891f', metadata={'Lecture Title': 'Programming Languages & Software Employed in Data Science - All the Tools You Need', 'Course Title': 'Introduction to Data and Data Science'}, page_content='It’s actually a software framework which was designed to address the complexity of big data and its computational intensity. Most notably, Hadoop distributes the computational tasks on multiple computers which is basically the way to handle big data nowadays. Power BI, SaS, Qlik, and especially Tableau are top-notch examples of software designed for business intelligence visualizations'), Document(id='54bca6b9-0cfc-481a-a145-4d44446ce948', metadata={'Lecture Title': 'Analysis vs Analytics', 'Course Title': 'Introduction to Data and Data Science'}, page_content='Analytics is essentially the application of logical and computational reasoning to the component parts obtained in an analysis. And in doing this you are looking for patterns and exploring what you could do with them in the future. Here, analytics branches off into two areas: qualitative analytics – this is using your intuition and experience in conjunction with the analysis to plan your next business move')]\\n\\nAt the end of the response, specify the name of the lecture this context is taken from in the format:\\nResources: *Lecture Title*\\nwhere *Lecture Title* should be substituted with the title of all resource lectures.\\n\")"
   ]
  },
  {
   "cell_type": "code",
   "execution_count": null,
   "id": "b40535ac-8d7f-4051-8b3c-a2901de25774",
   "metadata": {},
   "outputs": [],
   "source": []
  }
 ],
 "metadata": {
  "kernelspec": {
   "display_name": "Python 3.13.5",
   "language": "python",
   "name": "python-latest"
  },
  "language_info": {
   "codemirror_mode": {
    "name": "ipython",
    "version": 3
   },
   "file_extension": ".py",
   "mimetype": "text/x-python",
   "name": "python",
   "nbconvert_exporter": "python",
   "pygments_lexer": "ipython3",
   "version": "3.13.5"
  }
 },
 "nbformat": 4,
 "nbformat_minor": 5
}
