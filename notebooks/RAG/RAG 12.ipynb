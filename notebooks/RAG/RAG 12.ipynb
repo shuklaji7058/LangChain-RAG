{
 "cells": [
  {
   "cell_type": "code",
   "execution_count": 1,
   "id": "f17cdec2-82ce-4441-8ca8-e2515667f6f0",
   "metadata": {},
   "outputs": [],
   "source": [
    "# Generation: Generating a Response"
   ]
  },
  {
   "cell_type": "code",
   "execution_count": 2,
   "id": "a2fcecf7-a866-49f0-ada3-5778c9ea782e",
   "metadata": {},
   "outputs": [],
   "source": [
    "%load_ext dotenv\n",
    "%dotenv"
   ]
  },
  {
   "cell_type": "code",
   "execution_count": 3,
   "id": "7f2d4077-e950-439e-8548-326ce0639f43",
   "metadata": {},
   "outputs": [],
   "source": [
    "from langchain_google_genai import GoogleGenerativeAIEmbeddings \n",
    "from langchain_chroma import Chroma\n",
    "from langchain_google_genai import GoogleGenerativeAIEmbeddings \n",
    "from langchain_core.prompts import PromptTemplate\n",
    "from langchain_core.runnables import RunnablePassthrough\n",
    "from langchain_core.runnables import RunnableParallel\n",
    "from langchain_core.output_parsers import StrOutputParser\n",
    "from langchain_google_genai import ChatGoogleGenerativeAI"
   ]
  },
  {
   "cell_type": "code",
   "execution_count": 4,
   "id": "6b97cba2-9786-4aaf-846e-a9b537d2d477",
   "metadata": {},
   "outputs": [],
   "source": [
    "import os\n",
    "api_key = os.getenv(\"GEMINI_API_KEY\")\n",
    "\n",
    "embedding = GoogleGenerativeAIEmbeddings(\n",
    "    model=\"models/embedding-001\",\n",
    "    google_api_key=api_key\n",
    ")\n",
    "\n",
    "\n",
    "vectorstore = Chroma(persist_directory = \"./intro-to-ds-lectures\", \n",
    "                     embedding_function = embedding\n",
    "                  )"
   ]
  },
  {
   "cell_type": "code",
   "execution_count": 5,
   "id": "64405a04-d41f-4ac4-973d-6e63c879f0a0",
   "metadata": {},
   "outputs": [
    {
     "data": {
      "text/plain": [
       "41"
      ]
     },
     "execution_count": 5,
     "metadata": {},
     "output_type": "execute_result"
    }
   ],
   "source": [
    "len(vectorstore.get()['documents'])"
   ]
  },
  {
   "cell_type": "code",
   "execution_count": 6,
   "id": "bc8a1cd5-7c08-4211-9df2-c9ecc6667d2b",
   "metadata": {},
   "outputs": [],
   "source": [
    "retriever = vectorstore.as_retriever(search_type = 'mmr', \n",
    "                                     search_kwargs = {'k':3, \n",
    "                                                      'lambda_mult':0.7})"
   ]
  },
  {
   "cell_type": "code",
   "execution_count": 7,
   "id": "34c1fcd7-409c-4601-8cbf-ff7ebaa58147",
   "metadata": {},
   "outputs": [],
   "source": [
    "TEMPLATE = '''\n",
    "Answer the following question:\n",
    "{question}\n",
    "\n",
    "To answer the question, use only the following context:\n",
    "{context}\n",
    "\n",
    "At the end of the response, specify the name of the lecture this context is taken from in the format:\n",
    "Resources: *Lecture Title*\n",
    "where *Lecture Title* should be substituted with the title of all resource lectures.\n",
    "'''\n",
    "\n",
    "prompt_template = PromptTemplate.from_template(TEMPLATE)"
   ]
  },
  {
   "cell_type": "code",
   "execution_count": 8,
   "id": "d350ac71-951b-4d43-9577-2f9cca407290",
   "metadata": {},
   "outputs": [],
   "source": [
    "chat = ChatGoogleGenerativeAI(\n",
    "    google_api_key = os.getenv(\"GEMINI_API_KEY\"),  \n",
    "    model = \"gemini-2.0-flash\",\n",
    "    temperature = 0,\n",
    "    max_output_tokens = 100,\n",
    "    model_kwargs = {\"seed\": 365}\n",
    ")"
   ]
  },
  {
   "cell_type": "code",
   "execution_count": 9,
   "id": "0f0587ab-5ac7-42f2-9f45-bfd5b7ddc4f0",
   "metadata": {},
   "outputs": [],
   "source": [
    "question = \"What software do data scientists use?\""
   ]
  },
  {
   "cell_type": "code",
   "execution_count": 10,
   "id": "9b0fd2f4-4bc1-42ba-b18c-970f5163f76a",
   "metadata": {},
   "outputs": [],
   "source": [
    "chain = ({'context': retriever, \n",
    "         'question': RunnablePassthrough()} \n",
    "         | prompt_template \n",
    "         | chat \n",
    "         | StrOutputParser())"
   ]
  },
  {
   "cell_type": "code",
   "execution_count": 11,
   "id": "00bdc23f-1d0e-4610-9d82-9cbac0f3758f",
   "metadata": {},
   "outputs": [
    {
     "data": {
      "text/plain": [
       "'Data scientists use programming and software tools. Hadoop is a software framework used to address the complexity of big data. Power BI, SaS, Qlik, and Tableau are examples of software designed for business intelligence visualizations.\\n\\nResources: *Programming Languages & Software Employed in Data Science - All the Tools You Need, Programming Languages & Software Employed in Data Science - All the Tools You Need*'"
      ]
     },
     "execution_count": 11,
     "metadata": {},
     "output_type": "execute_result"
    }
   ],
   "source": [
    "chain.invoke(question)"
   ]
  },
  {
   "cell_type": "code",
   "execution_count": 12,
   "id": "e43d47dc-56b0-4531-905d-c60a0e7ec428",
   "metadata": {},
   "outputs": [
    {
     "name": "stdout",
     "output_type": "stream",
     "text": [
      "Data scientists use a variety of software tools. R and Python are the two most popular tools as they can manipulate data and are integrated within multiple data and data science software platforms. They are adaptable and can solve a wide range of business and data-related problems. Hadoop is a software framework designed to handle the complexity and computational intensity of big data by distributing computational tasks on multiple computers. Additionally, Power BI, SaS, Qlik, and Tableau are top-notch examples of software designed for business intelligence visualizations.\n",
      "\n",
      "Resources: Programming Languages & Software Employed in Data Science - All the Tools You Need\n"
     ]
    }
   ],
   "source": [
    "print('Data scientists use a variety of software tools. R and Python are the two most popular tools as they can manipulate data and are integrated within multiple data and data science software platforms. They are adaptable and can solve a wide range of business and data-related problems. Hadoop is a software framework designed to handle the complexity and computational intensity of big data by distributing computational tasks on multiple computers. Additionally, Power BI, SaS, Qlik, and Tableau are top-notch examples of software designed for business intelligence visualizations.\\n\\nResources: Programming Languages & Software Employed in Data Science - All the Tools You Need')"
   ]
  },
  {
   "cell_type": "code",
   "execution_count": null,
   "id": "0867079a-4a21-4b9c-9fed-97d2ddbecc92",
   "metadata": {},
   "outputs": [],
   "source": []
  }
 ],
 "metadata": {
  "kernelspec": {
   "display_name": "Python 3.13.5",
   "language": "python",
   "name": "python-latest"
  },
  "language_info": {
   "codemirror_mode": {
    "name": "ipython",
    "version": 3
   },
   "file_extension": ".py",
   "mimetype": "text/x-python",
   "name": "python",
   "nbconvert_exporter": "python",
   "pygments_lexer": "ipython3",
   "version": "3.13.5"
  }
 },
 "nbformat": 4,
 "nbformat_minor": 5
}
